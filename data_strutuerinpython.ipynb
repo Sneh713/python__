{
  "nbformat": 4,
  "nbformat_minor": 0,
  "metadata": {
    "colab": {
      "name": "data_strutuerinpython.ipynb",
      "provenance": [],
      "collapsed_sections": []
    },
    "kernelspec": {
      "name": "python3",
      "display_name": "Python 3"
    },
    "language_info": {
      "name": "python"
    }
  },
  "cells": [
    {
      "cell_type": "code",
      "execution_count": null,
      "metadata": {
        "id": "Rt7Efr_yHAlz"
      },
      "outputs": [],
      "source": [
        "#list\n"
      ]
    },
    {
      "cell_type": "code",
      "source": [
        "list1=[1,\"sneh\",3]\n",
        "list1"
      ],
      "metadata": {
        "colab": {
          "base_uri": "https://localhost:8080/"
        },
        "id": "oPfGyZ20HYnK",
        "outputId": "bc6382a3-a302-4602-e8a2-1999c99b1bcb"
      },
      "execution_count": null,
      "outputs": [
        {
          "output_type": "execute_result",
          "data": {
            "text/plain": [
              "[1, 'sneh', 3]"
            ]
          },
          "metadata": {},
          "execution_count": 3
        }
      ]
    },
    {
      "cell_type": "code",
      "source": [
        "#tuple"
      ],
      "metadata": {
        "id": "fmA1pVKkHdlY"
      },
      "execution_count": null,
      "outputs": []
    },
    {
      "cell_type": "code",
      "source": [
        "tuple1=(1,\"sneh\",3.5)\n",
        "tuple1"
      ],
      "metadata": {
        "colab": {
          "base_uri": "https://localhost:8080/"
        },
        "id": "Ntqq_DFxHhzM",
        "outputId": "bc432b6e-92f6-4f61-ee8f-bcac4b1d6ee6"
      },
      "execution_count": null,
      "outputs": [
        {
          "output_type": "execute_result",
          "data": {
            "text/plain": [
              "(1, 'sneh', 3.5)"
            ]
          },
          "metadata": {},
          "execution_count": 6
        }
      ]
    },
    {
      "cell_type": "code",
      "source": [
        "#dictionary "
      ],
      "metadata": {
        "id": "qy8trmrxHmsI"
      },
      "execution_count": null,
      "outputs": []
    },
    {
      "cell_type": "code",
      "source": [
        "dict1={\"sneh\":\"singh\"}\n",
        "dict1"
      ],
      "metadata": {
        "colab": {
          "base_uri": "https://localhost:8080/"
        },
        "id": "-h3yVwJEHrLL",
        "outputId": "db5c8763-0792-43dd-fccf-3166b2f5da01"
      },
      "execution_count": 1,
      "outputs": [
        {
          "output_type": "execute_result",
          "data": {
            "text/plain": [
              "{'sneh': 'singh'}"
            ]
          },
          "metadata": {},
          "execution_count": 1
        }
      ]
    },
    {
      "cell_type": "code",
      "source": [
        "#set"
      ],
      "metadata": {
        "id": "i-BKS2akHwC4"
      },
      "execution_count": null,
      "outputs": []
    },
    {
      "cell_type": "code",
      "source": [
        "set1={1,2,3,1,2,\"sneh\",\"singh\",\"futa\",\"singh\"}"
      ],
      "metadata": {
        "id": "gOZ1D-DpHzh7"
      },
      "execution_count": 2,
      "outputs": []
    },
    {
      "cell_type": "code",
      "source": [
        "set1"
      ],
      "metadata": {
        "colab": {
          "base_uri": "https://localhost:8080/"
        },
        "id": "kVbYQMDaH8E0",
        "outputId": "2a8ce9a1-5747-4faa-861d-e22636331101"
      },
      "execution_count": null,
      "outputs": [
        {
          "output_type": "execute_result",
          "data": {
            "text/plain": [
              "{1, 2, 3, 'sapna', 'singh', 'sneh'}"
            ]
          },
          "metadata": {},
          "execution_count": 12
        }
      ]
    },
    {
      "cell_type": "code",
      "source": [
        "#linked_list"
      ],
      "metadata": {
        "id": "cVRZgHn7H9D0"
      },
      "execution_count": null,
      "outputs": []
    },
    {
      "cell_type": "code",
      "source": [
        "from collections import deque"
      ],
      "metadata": {
        "id": "YXL_Rw0RIDXm"
      },
      "execution_count": null,
      "outputs": []
    },
    {
      "cell_type": "code",
      "source": [
        "queue=deque()"
      ],
      "metadata": {
        "id": "3y2qNt_PIILs"
      },
      "execution_count": null,
      "outputs": []
    },
    {
      "cell_type": "code",
      "source": [
        "for i in range(6):\n",
        "  queue.append(i)\n",
        "  print(queue)"
      ],
      "metadata": {
        "colab": {
          "base_uri": "https://localhost:8080/"
        },
        "id": "Yi6K6AuNIMbr",
        "outputId": "366c82fb-089b-4055-9800-f07d74113750"
      },
      "execution_count": null,
      "outputs": [
        {
          "output_type": "stream",
          "name": "stdout",
          "text": [
            "deque([0])\n",
            "deque([0, 1])\n",
            "deque([0, 1, 2])\n",
            "deque([0, 1, 2, 3])\n",
            "deque([0, 1, 2, 3, 4])\n",
            "deque([0, 1, 2, 3, 4, 5])\n"
          ]
        }
      ]
    },
    {
      "cell_type": "code",
      "source": [
        "for i in range(len(queue)):\n",
        "  queue.popleft()\n",
        "  print(queue)"
      ],
      "metadata": {
        "colab": {
          "base_uri": "https://localhost:8080/"
        },
        "id": "BZCftXRsIZDN",
        "outputId": "0d31ef3d-2ab8-4ab6-f0f5-2f348a74ccf6"
      },
      "execution_count": null,
      "outputs": [
        {
          "output_type": "stream",
          "name": "stdout",
          "text": [
            "deque([1, 2, 3, 4, 5])\n",
            "deque([2, 3, 4, 5])\n",
            "deque([3, 4, 5])\n",
            "deque([4, 5])\n",
            "deque([5])\n",
            "deque([])\n"
          ]
        }
      ]
    },
    {
      "cell_type": "code",
      "source": [
        "#custum_linked_list"
      ],
      "metadata": {
        "id": "Hmh5ENC4Ij45"
      },
      "execution_count": null,
      "outputs": []
    },
    {
      "cell_type": "code",
      "source": [
        "class Node:\n",
        "  def __init__(self,data=None) -> None:\n",
        "      self.data=data\n",
        "      self.next=None"
      ],
      "metadata": {
        "id": "7195DRqEIp6Z"
      },
      "execution_count": 4,
      "outputs": []
    },
    {
      "cell_type": "code",
      "source": [
        "class Linkeds:\n",
        "  def __init__(self):\n",
        "    self.head=None\n",
        "  def show(self):\n",
        "    node=self.head\n",
        "    while node is not None:\n",
        "      print(node.data)\n",
        "      node=node.next\n",
        "  def add(self,new):\n",
        "    new_node=Node(new)\n",
        "    new_node.next=self.head\n",
        "    self.head=new_node\n",
        "  def add_at_end(self,new):\n",
        "    new_node=Node(new)\n",
        "    p=Node()\n",
        "    p=self.head\n",
        "    while p.next is not None:\n",
        "      p=p.next\n",
        "    p.next=new_node\n",
        "    new_node.next=None\n",
        "  def add_after_node(self,node,new):\n",
        "    new_node=Node(new)\n",
        "    new_node.next=node.next\n",
        "    node.next=new_node\n",
        "  def add_at_index(self,new,index):\n",
        "    new_node=Node(new)\n",
        "    p=Node()\n",
        "    p=self.head\n",
        "    i=0\n",
        "    while i != index:\n",
        "      p=p.next\n",
        "      i+=1\n",
        "    new_node.next=p.next\n",
        "    p.next=new_node\n",
        "  def delete_first(self):\n",
        "    p=Node()\n",
        "    p=self.head\n",
        "    self.head=p.next\n",
        "    p.next=None\n",
        "  def delete_last(self):\n",
        "    p=Node()\n",
        "    a=Node()\n",
        "    p=self.head\n",
        "    a=self.head.next\n",
        "    while a.next is not None:\n",
        "      a=a.next\n",
        "      p=p.next\n",
        "    p.next=None\n",
        "\n",
        "  def del_atindex(self,index):\n",
        "    prev=Node()\n",
        "    a=Node()\n",
        "    prev=self.head\n",
        "    a=self.head.next\n",
        "    for i in range(1,index):\n",
        "      a=a.next\n",
        "      prev=prev.next\n",
        "    prev.next=a.next\n",
        "    a.next=None\n",
        "\n",
        "\n",
        "\n",
        "    \n",
        "\n",
        "\n"
      ],
      "metadata": {
        "id": "e7Oaa81cJChI"
      },
      "execution_count": 5,
      "outputs": []
    },
    {
      "cell_type": "code",
      "source": [
        "link=Linkeds()"
      ],
      "metadata": {
        "id": "8QLdGZdjJu0s"
      },
      "execution_count": 6,
      "outputs": []
    },
    {
      "cell_type": "code",
      "source": [
        "elem1=Node(\"lommve\")\n"
      ],
      "metadata": {
        "id": "4f5orYg8Jz4p"
      },
      "execution_count": 7,
      "outputs": []
    },
    {
      "cell_type": "code",
      "source": [
        "link.head=elem1"
      ],
      "metadata": {
        "id": "gbehIu7JJ5na"
      },
      "execution_count": 8,
      "outputs": []
    },
    {
      "cell_type": "code",
      "source": [
        "link.show()"
      ],
      "metadata": {
        "colab": {
          "base_uri": "https://localhost:8080/"
        },
        "id": "mn9x0k1zJ_SY",
        "outputId": "237b228a-f995-4800-89eb-ab23bb2d087e"
      },
      "execution_count": 9,
      "outputs": [
        {
          "output_type": "stream",
          "name": "stdout",
          "text": [
            "lommve\n"
          ]
        }
      ]
    },
    {
      "cell_type": "code",
      "source": [
        "elem2=Node(\"sagh\")"
      ],
      "metadata": {
        "id": "UVqa_6fSKBhr"
      },
      "execution_count": 10,
      "outputs": []
    },
    {
      "cell_type": "code",
      "source": [
        "link.head.next=elem2"
      ],
      "metadata": {
        "id": "PUk__7MuKJXI"
      },
      "execution_count": 12,
      "outputs": []
    },
    {
      "cell_type": "code",
      "source": [
        "link.show()"
      ],
      "metadata": {
        "id": "rE10WPOAKOQt",
        "colab": {
          "base_uri": "https://localhost:8080/"
        },
        "outputId": "973573c9-a5a2-4e5d-9c2f-0e8fc02b9f48"
      },
      "execution_count": 13,
      "outputs": [
        {
          "output_type": "stream",
          "name": "stdout",
          "text": [
            "lommve\n",
            "sagh\n"
          ]
        }
      ]
    },
    {
      "cell_type": "code",
      "source": [
        ""
      ],
      "metadata": {
        "id": "VcJKBvYqKQJt"
      },
      "execution_count": null,
      "outputs": []
    },
    {
      "cell_type": "code",
      "source": [
        "link.show()"
      ],
      "metadata": {
        "colab": {
          "base_uri": "https://localhost:8080/"
        },
        "id": "4_ViQAopKsD4",
        "outputId": "b9851300-ffa8-4dbc-d29e-52740a97d662"
      },
      "execution_count": 14,
      "outputs": [
        {
          "output_type": "stream",
          "name": "stdout",
          "text": [
            "lommve\n",
            "sagh\n"
          ]
        }
      ]
    },
    {
      "cell_type": "code",
      "source": [
        "ele4=\"sneh\""
      ],
      "metadata": {
        "id": "mOnCoDYeKuiY"
      },
      "execution_count": null,
      "outputs": []
    },
    {
      "cell_type": "code",
      "source": [
        "link.add_at_end(\"sneh\")"
      ],
      "metadata": {
        "id": "pe900dsJo-cr"
      },
      "execution_count": null,
      "outputs": []
    },
    {
      "cell_type": "code",
      "source": [
        "link.show()"
      ],
      "metadata": {
        "colab": {
          "base_uri": "https://localhost:8080/"
        },
        "id": "1uwyWrpOpKx7",
        "outputId": "7d14a4ba-9158-4d7d-fa8c-006a8ba4d7e2"
      },
      "execution_count": 15,
      "outputs": [
        {
          "output_type": "stream",
          "name": "stdout",
          "text": [
            "lommve\n",
            "sagh\n"
          ]
        }
      ]
    },
    {
      "cell_type": "code",
      "source": [
        "link.add_after_node(elem1,\"basfdf\")"
      ],
      "metadata": {
        "id": "GyRTU4oCqEK7"
      },
      "execution_count": 16,
      "outputs": []
    },
    {
      "cell_type": "code",
      "source": [
        "link.show()"
      ],
      "metadata": {
        "colab": {
          "base_uri": "https://localhost:8080/"
        },
        "id": "YjWxnfOprHuG",
        "outputId": "8cd356bd-be06-4ac0-981c-07263d32e90b"
      },
      "execution_count": 17,
      "outputs": [
        {
          "output_type": "stream",
          "name": "stdout",
          "text": [
            "lommve\n",
            "basfdf\n",
            "sagh\n"
          ]
        }
      ]
    },
    {
      "cell_type": "code",
      "source": [
        "link.add_at_index(\"dsdf\",1)\n",
        "link.show()"
      ],
      "metadata": {
        "colab": {
          "base_uri": "https://localhost:8080/"
        },
        "id": "-ycp45zErTly",
        "outputId": "1089492a-b9ec-4573-9d8c-4bd3120fb6db"
      },
      "execution_count": 18,
      "outputs": [
        {
          "output_type": "stream",
          "name": "stdout",
          "text": [
            "lommve\n",
            "basfdf\n",
            "dsdf\n",
            "sagh\n"
          ]
        }
      ]
    },
    {
      "cell_type": "code",
      "source": [
        "link.delete_first()"
      ],
      "metadata": {
        "id": "zVFFkpoys_ja"
      },
      "execution_count": null,
      "outputs": []
    },
    {
      "cell_type": "code",
      "source": [
        "link.show()"
      ],
      "metadata": {
        "colab": {
          "base_uri": "https://localhost:8080/"
        },
        "id": "_ypMF6ituBgZ",
        "outputId": "43053ec5-c663-4f33-e82e-18e257dec8f6"
      },
      "execution_count": 19,
      "outputs": [
        {
          "output_type": "stream",
          "name": "stdout",
          "text": [
            "lommve\n",
            "basfdf\n",
            "dsdf\n",
            "sagh\n"
          ]
        }
      ]
    },
    {
      "cell_type": "code",
      "source": [
        "link.delete_last()\n",
        "link.show()"
      ],
      "metadata": {
        "colab": {
          "base_uri": "https://localhost:8080/"
        },
        "id": "58jyienKdrfC",
        "outputId": "d45a958d-3bc5-4b3a-f7c6-d06655309bbd"
      },
      "execution_count": 20,
      "outputs": [
        {
          "output_type": "stream",
          "name": "stdout",
          "text": [
            "lommve\n",
            "basfdf\n",
            "dsdf\n"
          ]
        }
      ]
    },
    {
      "cell_type": "code",
      "source": [
        "link.del_atindex(1)\n",
        "link.show()"
      ],
      "metadata": {
        "colab": {
          "base_uri": "https://localhost:8080/"
        },
        "id": "0f46pDNBeZkh",
        "outputId": "9e8ee3a3-ec72-43fc-cfd1-1dea49503968"
      },
      "execution_count": 21,
      "outputs": [
        {
          "output_type": "stream",
          "name": "stdout",
          "text": [
            "lommve\n",
            "dsdf\n"
          ]
        }
      ]
    },
    {
      "cell_type": "code",
      "source": [
        "#array in python\n",
        "import array as ar"
      ],
      "metadata": {
        "id": "1XyAXjnIuDSZ"
      },
      "execution_count": null,
      "outputs": []
    },
    {
      "cell_type": "code",
      "source": [
        "a=ar.array('i',[1,2,3,4,5,67,8,2])\n",
        "a"
      ],
      "metadata": {
        "colab": {
          "base_uri": "https://localhost:8080/"
        },
        "id": "uqSW2AHgVzj0",
        "outputId": "24359311-f176-4853-d55a-b8e59c8e83a8"
      },
      "execution_count": null,
      "outputs": [
        {
          "output_type": "execute_result",
          "data": {
            "text/plain": [
              "array('i', [1, 2, 3, 4, 5, 67, 8, 2])"
            ]
          },
          "metadata": {},
          "execution_count": 60
        }
      ]
    },
    {
      "cell_type": "code",
      "source": [
        "print(a)"
      ],
      "metadata": {
        "colab": {
          "base_uri": "https://localhost:8080/"
        },
        "id": "83LXgMytWC44",
        "outputId": "5939517c-b13d-44d3-90e4-176afdffb1e9"
      },
      "execution_count": null,
      "outputs": [
        {
          "output_type": "stream",
          "name": "stdout",
          "text": [
            "array('i', [1, 2, 3, 4, 5, 67, 8, 2])\n"
          ]
        }
      ]
    },
    {
      "cell_type": "code",
      "source": [
        "for i in a:\n",
        "  print(i)"
      ],
      "metadata": {
        "colab": {
          "base_uri": "https://localhost:8080/"
        },
        "id": "kG3ucoSCWFpJ",
        "outputId": "f7d4422f-7fb6-40b2-99fe-c1dc2c359658"
      },
      "execution_count": null,
      "outputs": [
        {
          "output_type": "stream",
          "name": "stdout",
          "text": [
            "1\n",
            "2\n",
            "3\n",
            "4\n",
            "5\n",
            "67\n",
            "8\n",
            "2\n"
          ]
        }
      ]
    },
    {
      "cell_type": "code",
      "source": [
        "a.append(5)\n",
        "a.extend([2,5,8])\n",
        "a.insert(3,10)"
      ],
      "metadata": {
        "id": "yU34qe-SWP7Z"
      },
      "execution_count": null,
      "outputs": []
    },
    {
      "cell_type": "code",
      "source": [
        "for i in a:\n",
        "  print(i,end=\" \")"
      ],
      "metadata": {
        "colab": {
          "base_uri": "https://localhost:8080/"
        },
        "id": "mWEeKIGhWeEz",
        "outputId": "b889fd35-0233-4cda-8d23-b0a601d48436"
      },
      "execution_count": null,
      "outputs": [
        {
          "output_type": "stream",
          "name": "stdout",
          "text": [
            "1 2 3 10 4 5 67 8 2 5 2 5 8 "
          ]
        }
      ]
    },
    {
      "cell_type": "code",
      "source": [
        "a.pop()"
      ],
      "metadata": {
        "colab": {
          "base_uri": "https://localhost:8080/"
        },
        "id": "HNR7OYPVWjxz",
        "outputId": "e995f5f0-b456-413b-8015-69226eba0ab1"
      },
      "execution_count": null,
      "outputs": [
        {
          "output_type": "execute_result",
          "data": {
            "text/plain": [
              "8"
            ]
          },
          "metadata": {},
          "execution_count": 65
        }
      ]
    },
    {
      "cell_type": "code",
      "source": [
        "a.remove(10)"
      ],
      "metadata": {
        "id": "WLLaY9-WWoZT"
      },
      "execution_count": null,
      "outputs": []
    },
    {
      "cell_type": "code",
      "source": [
        "a"
      ],
      "metadata": {
        "colab": {
          "base_uri": "https://localhost:8080/"
        },
        "id": "hU-6Q4QPWsjz",
        "outputId": "d9740702-4eaa-464a-a909-0767b6b05a66"
      },
      "execution_count": null,
      "outputs": [
        {
          "output_type": "execute_result",
          "data": {
            "text/plain": [
              "array('i', [1, 2, 3, 4, 5, 67, 8, 2, 5, 2, 5])"
            ]
          },
          "metadata": {},
          "execution_count": 67
        }
      ]
    },
    {
      "cell_type": "code",
      "source": [
        "b=ar.array('i',[2,3,4,5,6,7])"
      ],
      "metadata": {
        "id": "lCBjXyiSWtj4"
      },
      "execution_count": null,
      "outputs": []
    },
    {
      "cell_type": "code",
      "source": [
        "c=ar.array('i',[])"
      ],
      "metadata": {
        "id": "KPDItRpNW0Hb"
      },
      "execution_count": null,
      "outputs": []
    },
    {
      "cell_type": "code",
      "source": [
        "c=a+b"
      ],
      "metadata": {
        "id": "B9aFZhp0W4tD"
      },
      "execution_count": null,
      "outputs": []
    },
    {
      "cell_type": "code",
      "source": [
        "for i in c:\n",
        "  print(i,end=\"  \")"
      ],
      "metadata": {
        "colab": {
          "base_uri": "https://localhost:8080/"
        },
        "id": "vZHPkTLCW58H",
        "outputId": "cf461ccb-da4c-48f8-8abb-a43d2a1ee300"
      },
      "execution_count": null,
      "outputs": [
        {
          "output_type": "stream",
          "name": "stdout",
          "text": [
            "1  2  3  4  5  67  8  2  5  2  5  2  3  4  5  6  7  "
          ]
        }
      ]
    },
    {
      "cell_type": "code",
      "source": [
        "#sorting"
      ],
      "metadata": {
        "id": "aMG77LztXBhC"
      },
      "execution_count": null,
      "outputs": []
    },
    {
      "cell_type": "code",
      "source": [
        "for i in range(len(c)):\n",
        "  for j in range(i+1,len(c)):\n",
        "    if c[i]>c[j]:\n",
        "      temp=c[i]\n",
        "      c[i]=c[j]\n",
        "      c[j]=temp\n",
        "for i in c:\n",
        "  print(i,end=\" \")"
      ],
      "metadata": {
        "colab": {
          "base_uri": "https://localhost:8080/"
        },
        "id": "pIVk9KkLXGqD",
        "outputId": "70f5ddd2-a899-4631-aef1-e03f8f2a2029"
      },
      "execution_count": null,
      "outputs": [
        {
          "output_type": "stream",
          "name": "stdout",
          "text": [
            "1 2 2 2 2 3 3 4 4 5 5 5 5 6 7 8 67 "
          ]
        }
      ]
    },
    {
      "cell_type": "code",
      "source": [
        "#doubly linked list"
      ],
      "metadata": {
        "id": "sIoI484nXqoD"
      },
      "execution_count": null,
      "outputs": []
    },
    {
      "cell_type": "code",
      "source": [
        "class Node:\n",
        "  def __init__(self,data=None) -> None:\n",
        "      self.data=data\n",
        "      self.next=None\n",
        "      self.prev=None"
      ],
      "metadata": {
        "id": "i-ryKwSPpvNd"
      },
      "execution_count": 22,
      "outputs": []
    },
    {
      "cell_type": "code",
      "source": [
        "class Linkeds:\n",
        "  def __init__(self):\n",
        "    self.head=None\n",
        "  def show(self):\n",
        "    node=self.head\n",
        "    while node is not None:\n",
        "      print(node.data)\n",
        "      node=node.next"
      ],
      "metadata": {
        "id": "65W7W0K3qli1"
      },
      "execution_count": 23,
      "outputs": []
    },
    {
      "cell_type": "code",
      "source": [
        "links=Linkeds()"
      ],
      "metadata": {
        "id": "NIzGMtXjqvSX"
      },
      "execution_count": 24,
      "outputs": []
    },
    {
      "cell_type": "code",
      "source": [
        "n1=Node(\"sneh\")"
      ],
      "metadata": {
        "id": "VLJLYY5Qre3J"
      },
      "execution_count": 25,
      "outputs": []
    },
    {
      "cell_type": "code",
      "source": [
        "\n",
        "n1.prev=None"
      ],
      "metadata": {
        "id": "8GDQv0U0rlK8"
      },
      "execution_count": 26,
      "outputs": []
    },
    {
      "cell_type": "code",
      "source": [
        "n2=Node(\"sde\")"
      ],
      "metadata": {
        "id": "c3UG98f2rqFL"
      },
      "execution_count": 27,
      "outputs": []
    },
    {
      "cell_type": "code",
      "source": [
        "n1.next=n2"
      ],
      "metadata": {
        "id": "gBH6dsVurvb3"
      },
      "execution_count": 28,
      "outputs": []
    },
    {
      "cell_type": "code",
      "source": [
        "n3=Node(\"singh\")"
      ],
      "metadata": {
        "id": "-6ohiVxWrx0W"
      },
      "execution_count": 29,
      "outputs": []
    },
    {
      "cell_type": "code",
      "source": [
        "n2.next=n3"
      ],
      "metadata": {
        "id": "XQpyKmnNr2HL"
      },
      "execution_count": 30,
      "outputs": []
    },
    {
      "cell_type": "code",
      "source": [
        "n3.next=None"
      ],
      "metadata": {
        "id": "YhEQ1R8Or6-G"
      },
      "execution_count": 31,
      "outputs": []
    },
    {
      "cell_type": "code",
      "source": [
        "links.head=n1"
      ],
      "metadata": {
        "id": "oVRvLFfMsB3M"
      },
      "execution_count": 32,
      "outputs": []
    },
    {
      "cell_type": "code",
      "source": [
        "links.show()"
      ],
      "metadata": {
        "colab": {
          "base_uri": "https://localhost:8080/"
        },
        "id": "_KcHmvPwsLNX",
        "outputId": "fc2ca8fa-6f60-48da-8105-118b30484da9"
      },
      "execution_count": 33,
      "outputs": [
        {
          "output_type": "stream",
          "name": "stdout",
          "text": [
            "sneh\n",
            "sde\n",
            "singh\n"
          ]
        }
      ]
    },
    {
      "cell_type": "code",
      "source": [
        "# circular linked list"
      ],
      "metadata": {
        "id": "e8Lt52L_sN16"
      },
      "execution_count": null,
      "outputs": []
    },
    {
      "cell_type": "code",
      "source": [
        "class Node:\n",
        "  def __init__(self,data=None) -> None:\n",
        "      self.data=data\n",
        "      self.next=None"
      ],
      "metadata": {
        "id": "kw5fshe3sXRM"
      },
      "execution_count": 34,
      "outputs": []
    },
    {
      "cell_type": "code",
      "source": [
        "class Linkeds:\n",
        "  def __init__(self):\n",
        "    self.head=None\n",
        "  def show(self):\n",
        "    node=self.head\n",
        "    print(node.data)\n",
        "    node=node.next\n",
        "    while node !=self.head:\n",
        "      print(node.data)\n",
        "      node=node.next\n",
        "  def insert_at_last(self,data):\n",
        "    new_node=Node(data)\n",
        "    p=Node()\n",
        "    p=self.head.next\n",
        "    while p.next!=self.head:\n",
        "      p=p.next\n",
        "    p.next=new_node\n",
        "    new_node.next=self.head\n",
        "    \n",
        "\n",
        "    \n"
      ],
      "metadata": {
        "id": "NZHqL6MPskZI"
      },
      "execution_count": 35,
      "outputs": []
    },
    {
      "cell_type": "code",
      "source": [
        "n1=Node(\"i \")\n",
        "n2=Node(\" love\")\n",
        "n3=Node(\"you \")\n",
        "n4=Node(\"computer\")"
      ],
      "metadata": {
        "id": "kyb4xxs1tmbl"
      },
      "execution_count": 37,
      "outputs": []
    },
    {
      "cell_type": "code",
      "source": [
        "link=Linkeds()"
      ],
      "metadata": {
        "id": "qlVtyKAvt0av"
      },
      "execution_count": 38,
      "outputs": []
    },
    {
      "cell_type": "code",
      "source": [
        "link.head=n1\n",
        "n1.next=n2\n",
        "n2.next=n3\n",
        "n3.next=n4\n",
        "n4.next=n1"
      ],
      "metadata": {
        "id": "NFkuZOIet-km"
      },
      "execution_count": 39,
      "outputs": []
    },
    {
      "cell_type": "code",
      "source": [
        "link.show()"
      ],
      "metadata": {
        "colab": {
          "base_uri": "https://localhost:8080/"
        },
        "id": "9zGFXiA6uO4I",
        "outputId": "40d5bf74-169c-4734-95a3-52b197673de5"
      },
      "execution_count": 40,
      "outputs": [
        {
          "output_type": "stream",
          "name": "stdout",
          "text": [
            "i \n",
            " love\n",
            "you \n",
            "computer\n"
          ]
        }
      ]
    },
    {
      "cell_type": "code",
      "source": [
        "link.insert_at_last(\"sneh\")"
      ],
      "metadata": {
        "id": "ngwM0v9IuRLn"
      },
      "execution_count": 41,
      "outputs": []
    },
    {
      "cell_type": "code",
      "source": [
        "link.show()"
      ],
      "metadata": {
        "colab": {
          "base_uri": "https://localhost:8080/"
        },
        "id": "utxW2BeWvdca",
        "outputId": "74ff6977-e97b-410d-b7f2-2097f0f3caba"
      },
      "execution_count": 42,
      "outputs": [
        {
          "output_type": "stream",
          "name": "stdout",
          "text": [
            "i \n",
            " love\n",
            "you \n",
            "computer\n",
            "sneh\n"
          ]
        }
      ]
    },
    {
      "cell_type": "markdown",
      "source": [
        "#doubly linked list"
      ],
      "metadata": {
        "id": "ufTTIAx88uI2"
      }
    },
    {
      "cell_type": "code",
      "source": [
        "class Node:\n",
        "  def __init__(self,data):\n",
        "    self.data=data\n",
        "    self.next=None\n",
        "    self.prev=None\n",
        "    "
      ],
      "metadata": {
        "id": "K3u9C5T88yQY"
      },
      "execution_count": null,
      "outputs": []
    },
    {
      "cell_type": "code",
      "source": [
        "class doubly_linked_list:\n",
        "  def __init__(self):\n",
        "    self.head=None\n",
        "  def traversal(self):\n",
        "    #a=Node()\n",
        "    a=self.head\n",
        "    if a==None:\n",
        "      print(\"list is empty\")\n",
        "    else:\n",
        "      while a.next is not None:\n",
        "        print(a.data)\n",
        "        a=a.next\n",
        "  def insert_at_start(self,data):\n",
        "    newnode=Node(data)\n",
        "    #a=Node()\n",
        "    a=self.head\n",
        "    a.prev=newnode\n",
        "    newnode.next=a\n",
        "    self.head=newnode\n",
        "  def insert_at_last(Self,data):\n",
        "    newnode=Node(data)\n",
        "    #a=Node()\n",
        "    a=self.head\n",
        "    while a.next is not None:\n",
        "      a=a.next\n",
        "    a.next=newnode\n",
        "    newnode.prev=a\n"
      ],
      "metadata": {
        "id": "vsmEWZzZ9E7L"
      },
      "execution_count": null,
      "outputs": []
    },
    {
      "cell_type": "code",
      "source": [
        "link=doubly_linked_list()\n",
        "a=Node(10)\n",
        "a.next=None\n",
        "a.prev=None\n",
        "link.head=a\n",
        "\n",
        "link.insert_at_start(12)\n",
        "link.insert_at_start(12)\n",
        "link.insert_at_start(12)\n",
        "link.insert_at_start(12)\n",
        "link.insert_at_start(12)\n",
        "link.insert_at_start(12)\n",
        "#link.insert_at_last(34)\n",
        "link.traversal()"
      ],
      "metadata": {
        "colab": {
          "base_uri": "https://localhost:8080/"
        },
        "id": "Ftw82Pwb-hSX",
        "outputId": "7711b244-cd1c-4c62-bc5c-d3ae16a17201"
      },
      "execution_count": null,
      "outputs": [
        {
          "output_type": "stream",
          "name": "stdout",
          "text": [
            "12\n",
            "12\n",
            "12\n",
            "12\n",
            "12\n",
            "12\n"
          ]
        }
      ]
    },
    {
      "cell_type": "code",
      "source": [
        "#link.insert_at_last(15)"
      ],
      "metadata": {
        "id": "RruYLuYmB6gB"
      },
      "execution_count": null,
      "outputs": []
    },
    {
      "cell_type": "markdown",
      "source": [
        "##stack\n"
      ],
      "metadata": {
        "id": "rqWtrFK-46P0"
      }
    },
    {
      "cell_type": "markdown",
      "source": [
        "implementation of stack using list"
      ],
      "metadata": {
        "id": "3vkhGC6_5FLu"
      }
    },
    {
      "cell_type": "code",
      "source": [
        "stack=[]\n",
        "stack.append(\"sneh\")\n",
        "\n"
      ],
      "metadata": {
        "id": "08kn1kCBvxw2"
      },
      "execution_count": null,
      "outputs": []
    },
    {
      "cell_type": "code",
      "source": [
        "stack=[]\n",
        "stack.append(\"sneh\")\n",
        "stack.append(\"sneh\")\n",
        "stack.append(\"sneh\")\n",
        "stack.append(\"sneh\")\n",
        "stack.pop()\n"
      ],
      "metadata": {
        "colab": {
          "base_uri": "https://localhost:8080/",
          "height": 35
        },
        "id": "vQxsDptt5XhW",
        "outputId": "7e1409dd-ba4c-4578-a2c1-29506114a58a"
      },
      "execution_count": null,
      "outputs": [
        {
          "output_type": "execute_result",
          "data": {
            "text/plain": [
              "'sneh'"
            ],
            "application/vnd.google.colaboratory.intrinsic+json": {
              "type": "string"
            }
          },
          "metadata": {},
          "execution_count": 3
        }
      ]
    },
    {
      "cell_type": "code",
      "source": [
        "for i in stack:\n",
        "  print(i)\n",
        "print(len(stack))"
      ],
      "metadata": {
        "colab": {
          "base_uri": "https://localhost:8080/"
        },
        "id": "38E5frc65giu",
        "outputId": "3dd7685e-4a1b-4938-e5f1-e987021868da"
      },
      "execution_count": null,
      "outputs": [
        {
          "output_type": "stream",
          "name": "stdout",
          "text": [
            "sneh\n",
            "sneh\n",
            "sneh\n",
            "3\n"
          ]
        }
      ]
    },
    {
      "cell_type": "markdown",
      "source": [
        "implementation stack using deque"
      ],
      "metadata": {
        "id": "AgVCGqjh5-Fu"
      }
    },
    {
      "cell_type": "code",
      "source": [
        "from collections import deque\n",
        "stack=deque()\n",
        "stack.append(\"rjiofdfg\")\n",
        "stack.append(\"sneh\")\n",
        "for i in stack:\n",
        "  print(i)\n",
        "stack.pop()\n"
      ],
      "metadata": {
        "colab": {
          "base_uri": "https://localhost:8080/",
          "height": 73
        },
        "id": "rkg0uy1j5mby",
        "outputId": "bdf93c9f-5815-476a-af41-95a254bc732a"
      },
      "execution_count": 43,
      "outputs": [
        {
          "output_type": "stream",
          "name": "stdout",
          "text": [
            "rjiofdfg\n",
            "sneh\n"
          ]
        },
        {
          "output_type": "execute_result",
          "data": {
            "text/plain": [
              "'sneh'"
            ],
            "application/vnd.google.colaboratory.intrinsic+json": {
              "type": "string"
            }
          },
          "metadata": {},
          "execution_count": 43
        }
      ]
    },
    {
      "cell_type": "markdown",
      "source": [
        "implementation stack using queue"
      ],
      "metadata": {
        "id": "rgejL60H6yHU"
      }
    },
    {
      "cell_type": "code",
      "source": [
        "from queue import LifoQueue"
      ],
      "metadata": {
        "id": "U0KYU5fJ5s6N"
      },
      "execution_count": 44,
      "outputs": []
    },
    {
      "cell_type": "code",
      "source": [
        "stack=LifoQueue()"
      ],
      "metadata": {
        "id": "eQ_lpC5x66Zh"
      },
      "execution_count": 45,
      "outputs": []
    },
    {
      "cell_type": "code",
      "source": [
        "stack.put(\"sneh\")"
      ],
      "metadata": {
        "id": "fXhHiIQN7ww8"
      },
      "execution_count": 46,
      "outputs": []
    },
    {
      "cell_type": "code",
      "source": [
        "stack.put(\"i\")"
      ],
      "metadata": {
        "id": "_P2pmXzi8Iqh"
      },
      "execution_count": 47,
      "outputs": []
    },
    {
      "cell_type": "code",
      "source": [
        "stack.put(\"love\")"
      ],
      "metadata": {
        "id": "4dkP_c1z8LFg"
      },
      "execution_count": 48,
      "outputs": []
    },
    {
      "cell_type": "code",
      "source": [
        "stack.put(\"computer\")"
      ],
      "metadata": {
        "id": "5V4tIvsq8Of9"
      },
      "execution_count": 49,
      "outputs": []
    },
    {
      "cell_type": "code",
      "source": [
        "stack.maxsize"
      ],
      "metadata": {
        "colab": {
          "base_uri": "https://localhost:8080/"
        },
        "id": "d4LMDDkX8Qrv",
        "outputId": "70fdaa94-1bfd-43de-8a6f-5de60395a004"
      },
      "execution_count": 50,
      "outputs": [
        {
          "output_type": "execute_result",
          "data": {
            "text/plain": [
              "0"
            ]
          },
          "metadata": {},
          "execution_count": 50
        }
      ]
    },
    {
      "cell_type": "code",
      "source": [
        "print(stack)\n"
      ],
      "metadata": {
        "colab": {
          "base_uri": "https://localhost:8080/"
        },
        "id": "emlpqpMV8WIs",
        "outputId": "c5092755-54e8-4885-800e-dcfb5dfe7152"
      },
      "execution_count": 51,
      "outputs": [
        {
          "output_type": "stream",
          "name": "stdout",
          "text": [
            "<queue.LifoQueue object at 0x7f2e34602d90>\n"
          ]
        }
      ]
    },
    {
      "cell_type": "code",
      "source": [
        "stack.empty()"
      ],
      "metadata": {
        "colab": {
          "base_uri": "https://localhost:8080/"
        },
        "id": "qr5Avbgn8gtt",
        "outputId": "4ad9dfcf-0ccd-4bde-e288-553eed91a266"
      },
      "execution_count": 52,
      "outputs": [
        {
          "output_type": "execute_result",
          "data": {
            "text/plain": [
              "False"
            ]
          },
          "metadata": {},
          "execution_count": 52
        }
      ]
    },
    {
      "cell_type": "code",
      "source": [
        "stack.full()"
      ],
      "metadata": {
        "colab": {
          "base_uri": "https://localhost:8080/"
        },
        "id": "qdJnrOEn8p68",
        "outputId": "08d20cbe-ff0f-4e11-c276-db9c0ea763c3"
      },
      "execution_count": 53,
      "outputs": [
        {
          "output_type": "execute_result",
          "data": {
            "text/plain": [
              "False"
            ]
          },
          "metadata": {},
          "execution_count": 53
        }
      ]
    },
    {
      "cell_type": "code",
      "source": [
        "stack.qsize()"
      ],
      "metadata": {
        "colab": {
          "base_uri": "https://localhost:8080/"
        },
        "id": "4hiYFxdc8ss8",
        "outputId": "2465a05f-2fac-4f62-9b13-6e032d5d59c2"
      },
      "execution_count": 54,
      "outputs": [
        {
          "output_type": "execute_result",
          "data": {
            "text/plain": [
              "4"
            ]
          },
          "metadata": {},
          "execution_count": 54
        }
      ]
    },
    {
      "cell_type": "code",
      "source": [
        "stack.get()"
      ],
      "metadata": {
        "colab": {
          "base_uri": "https://localhost:8080/",
          "height": 36
        },
        "id": "Sllwsg0X8wAs",
        "outputId": "df2532a6-516e-4c78-c8e6-cc90df86cbca"
      },
      "execution_count": 55,
      "outputs": [
        {
          "output_type": "execute_result",
          "data": {
            "text/plain": [
              "'computer'"
            ],
            "application/vnd.google.colaboratory.intrinsic+json": {
              "type": "string"
            }
          },
          "metadata": {},
          "execution_count": 55
        }
      ]
    },
    {
      "cell_type": "markdown",
      "source": [
        "#implementation stack using linked list"
      ],
      "metadata": {
        "id": "7Cp1eZUd8_HM"
      }
    },
    {
      "cell_type": "code",
      "source": [
        "class Node:\n",
        "  def __init__(self,data=None) -> None:\n",
        "      self.data=data\n",
        "      self.next=None"
      ],
      "metadata": {
        "id": "ma4ROUkW80Z8"
      },
      "execution_count": 56,
      "outputs": []
    },
    {
      "cell_type": "code",
      "source": [
        "class Linkeds:\n",
        "  def __init__(self):\n",
        "    self.head=None\n",
        "  def show(self):\n",
        "    node=self.head\n",
        "    while node is not None:\n",
        "      print(node.data)\n",
        "      node=node.next\n",
        "  def isfull(self):\n",
        "    if self.head==None:\n",
        "      return 1\n",
        "    else:\n",
        "      return 0\n",
        "    \n",
        "  def push(self,data):\n",
        "    if self.isfull():\n",
        "      print(\"stack overflow\")\n",
        "    else:\n",
        "      new_node=Node(data)\n",
        "      new_node.next=self.head\n",
        "      self.head=new_node\n",
        "  def isempty(self):\n",
        "    if self.head==None:\n",
        "      return 1\n",
        "    else:\n",
        "      return 0\n",
        "  def pop(self):\n",
        "    if self.isempty():\n",
        "      print(\"stack underflow\")\n",
        "    else:\n",
        "      n=Node()\n",
        "      n=self.head\n",
        "      #self.head.next=self.head\n",
        "      x=n.data\n",
        "      del(n)\n",
        "      return x\n",
        "  def top(self):\n",
        "    return self.head.data\n",
        "  \n",
        "      \n",
        "\n",
        "    "
      ],
      "metadata": {
        "id": "7GP1xgb484kw"
      },
      "execution_count": 57,
      "outputs": []
    },
    {
      "cell_type": "code",
      "source": [
        "link=Linkeds()"
      ],
      "metadata": {
        "id": "Xs6aFEyF-B23"
      },
      "execution_count": 58,
      "outputs": []
    },
    {
      "cell_type": "markdown",
      "source": [
        ""
      ],
      "metadata": {
        "id": "uAqX42e-DIgs"
      }
    },
    {
      "cell_type": "code",
      "source": [
        "n1=Node(\"hii,\")\n",
        "link.head=n1"
      ],
      "metadata": {
        "id": "wNObSv-xDNvg"
      },
      "execution_count": 59,
      "outputs": []
    },
    {
      "cell_type": "code",
      "source": [
        "link.push(\"sneh\")\n",
        "link.push(\"i\")\n",
        "link.push(\"lovggge\")\n",
        "link.push(\"you\")\n",
        "link.push(\"pna\")\n",
        "link.push(\"ahiou\")"
      ],
      "metadata": {
        "id": "TSBjCtymBaXK"
      },
      "execution_count": 60,
      "outputs": []
    },
    {
      "cell_type": "code",
      "source": [
        "link.show()"
      ],
      "metadata": {
        "colab": {
          "base_uri": "https://localhost:8080/"
        },
        "id": "1V0x3cbWCR6p",
        "outputId": "c3ad144a-4e8e-40fc-ba08-482043dd829b"
      },
      "execution_count": 61,
      "outputs": [
        {
          "output_type": "stream",
          "name": "stdout",
          "text": [
            "ahiou\n",
            "pna\n",
            "you\n",
            "lovggge\n",
            "i\n",
            "sneh\n",
            "hii,\n"
          ]
        }
      ]
    },
    {
      "cell_type": "code",
      "source": [
        "link.pop()"
      ],
      "metadata": {
        "colab": {
          "base_uri": "https://localhost:8080/",
          "height": 36
        },
        "id": "uxbvLY7dBoVA",
        "outputId": "40cc5378-6d2b-4916-bce2-54f66f1f8cc3"
      },
      "execution_count": 62,
      "outputs": [
        {
          "output_type": "execute_result",
          "data": {
            "text/plain": [
              "'ahiou'"
            ],
            "application/vnd.google.colaboratory.intrinsic+json": {
              "type": "string"
            }
          },
          "metadata": {},
          "execution_count": 62
        }
      ]
    },
    {
      "cell_type": "code",
      "source": [
        "link.show()"
      ],
      "metadata": {
        "colab": {
          "base_uri": "https://localhost:8080/"
        },
        "id": "0OWO5BwRCFe7",
        "outputId": "5af2f526-7d48-4ac3-eb97-4a4edcbc473f"
      },
      "execution_count": 63,
      "outputs": [
        {
          "output_type": "stream",
          "name": "stdout",
          "text": [
            "ahiou\n",
            "pna\n",
            "you\n",
            "lovggge\n",
            "i\n",
            "sneh\n",
            "hii,\n"
          ]
        }
      ]
    },
    {
      "cell_type": "code",
      "source": [
        "link.top()"
      ],
      "metadata": {
        "colab": {
          "base_uri": "https://localhost:8080/",
          "height": 36
        },
        "id": "2BK39DdHDglb",
        "outputId": "4255adee-6e61-4678-84d5-03c1d56ea3d9"
      },
      "execution_count": 64,
      "outputs": [
        {
          "output_type": "execute_result",
          "data": {
            "text/plain": [
              "'ahiou'"
            ],
            "application/vnd.google.colaboratory.intrinsic+json": {
              "type": "string"
            }
          },
          "metadata": {},
          "execution_count": 64
        }
      ]
    },
    {
      "cell_type": "markdown",
      "source": [
        "#queue"
      ],
      "metadata": {
        "id": "lbPjkwKffCRw"
      }
    },
    {
      "cell_type": "code",
      "source": [
        "class Queue:\n",
        "  def __init__(self):\n",
        "    self.queue=[]\n",
        "  def enqueue(self,item):\n",
        "    self.queue.append(item)\n",
        "  def dequeu(self):\n",
        "    if len(self.queue)<1:\n",
        "      return None\n",
        "    else:\n",
        "      return self.queue.pop()\n",
        "  def display(self):\n",
        "    print(self.queue)\n",
        "  def size(self):\n",
        "    print(len(self.queue))\n"
      ],
      "metadata": {
        "id": "-Zf9DDmNEizq"
      },
      "execution_count": null,
      "outputs": []
    },
    {
      "cell_type": "code",
      "source": [
        "q1=Queue()"
      ],
      "metadata": {
        "id": "aE48otTNfP3p"
      },
      "execution_count": null,
      "outputs": []
    },
    {
      "cell_type": "code",
      "source": [
        "q1.enqueue(1)\n",
        "q1.enqueue(2)\n",
        "q1.enqueue(3)\n",
        "q1.enqueue(4)\n",
        "q1.enqueue(5)\n",
        "q1.enqueue(6)\n",
        "q1.enqueue(7)"
      ],
      "metadata": {
        "id": "IJfKrOIOgIU5"
      },
      "execution_count": null,
      "outputs": []
    },
    {
      "cell_type": "code",
      "source": [
        "q1.display()"
      ],
      "metadata": {
        "colab": {
          "base_uri": "https://localhost:8080/"
        },
        "id": "SFcVGU1mgWPo",
        "outputId": "902ba6d0-d0f4-45fa-fdd4-8b3720ad77ac"
      },
      "execution_count": null,
      "outputs": [
        {
          "output_type": "stream",
          "name": "stdout",
          "text": [
            "[1, 2, 3, 4, 5, 6, 7]\n"
          ]
        }
      ]
    },
    {
      "cell_type": "code",
      "source": [
        "q1.size()"
      ],
      "metadata": {
        "colab": {
          "base_uri": "https://localhost:8080/"
        },
        "id": "hDI1NLo8gYl4",
        "outputId": "7d172d75-b368-4983-dd29-1a4538cbe31b"
      },
      "execution_count": null,
      "outputs": [
        {
          "output_type": "stream",
          "name": "stdout",
          "text": [
            "7\n"
          ]
        }
      ]
    },
    {
      "cell_type": "code",
      "source": [
        "q1.dequeu()\n"
      ],
      "metadata": {
        "colab": {
          "base_uri": "https://localhost:8080/"
        },
        "id": "RvJrgLrNgbAo",
        "outputId": "0a6a890b-c14a-4cd7-bf17-e8e88ff2edff"
      },
      "execution_count": null,
      "outputs": [
        {
          "output_type": "execute_result",
          "data": {
            "text/plain": [
              "7"
            ]
          },
          "metadata": {},
          "execution_count": 105
        }
      ]
    },
    {
      "cell_type": "code",
      "source": [
        "q1.display()"
      ],
      "metadata": {
        "colab": {
          "base_uri": "https://localhost:8080/"
        },
        "id": "y19vfz5mgjVI",
        "outputId": "f60ce198-bb0a-425b-e89f-e7af7f964275"
      },
      "execution_count": null,
      "outputs": [
        {
          "output_type": "stream",
          "name": "stdout",
          "text": [
            "[1, 2, 3, 4, 5, 6]\n"
          ]
        }
      ]
    },
    {
      "cell_type": "code",
      "source": [
        "! pip install django"
      ],
      "metadata": {
        "colab": {
          "base_uri": "https://localhost:8080/"
        },
        "id": "Mg9qBxVChRG5",
        "outputId": "54b583c9-da14-4beb-9889-14f06435ed53"
      },
      "execution_count": null,
      "outputs": [
        {
          "output_type": "stream",
          "name": "stdout",
          "text": [
            "Collecting django\n",
            "  Downloading Django-3.2.13-py3-none-any.whl (7.9 MB)\n",
            "\u001b[K     |████████████████████████████████| 7.9 MB 23.9 MB/s \n",
            "\u001b[?25hRequirement already satisfied: pytz in /usr/local/lib/python3.7/dist-packages (from django) (2022.1)\n",
            "Collecting asgiref<4,>=3.3.2\n",
            "  Downloading asgiref-3.5.1-py3-none-any.whl (22 kB)\n",
            "Requirement already satisfied: sqlparse>=0.2.2 in /usr/local/lib/python3.7/dist-packages (from django) (0.4.2)\n",
            "Requirement already satisfied: typing-extensions in /usr/local/lib/python3.7/dist-packages (from asgiref<4,>=3.3.2->django) (4.2.0)\n",
            "Installing collected packages: asgiref, django\n",
            "Successfully installed asgiref-3.5.1 django-3.2.13\n"
          ]
        }
      ]
    },
    {
      "cell_type": "markdown",
      "source": [
        "#application of stack"
      ],
      "metadata": {
        "id": "AxfPZAEmC0jh"
      }
    },
    {
      "cell_type": "code",
      "source": [
        "class Node:\n",
        "  def __init__(self,data=None) -> None:\n",
        "      self.data=data\n",
        "      \n"
      ],
      "metadata": {
        "id": "yuqKEG1shfv9"
      },
      "execution_count": null,
      "outputs": []
    },
    {
      "cell_type": "code",
      "source": [
        "class linked:\n",
        "  def __init__(self):\n",
        "    self.top=None\n",
        "  def cheakparanthis(self):\n",
        "    sp=Node()\n",
        "    sp.size=100\n",
        "    sp.top=-1\n",
        "    \n",
        "\n"
      ],
      "metadata": {
        "id": "FowrtC4XhrVo"
      },
      "execution_count": null,
      "outputs": []
    },
    {
      "cell_type": "markdown",
      "source": [
        "#Binary Tree"
      ],
      "metadata": {
        "id": "PcBCGdWL3caV"
      }
    },
    {
      "cell_type": "code",
      "source": [
        "class Node:\n",
        "  def __init__(self,key):\n",
        "    self.left=None\n",
        "    self.right=None\n",
        "    self.val=key"
      ],
      "metadata": {
        "id": "WXckIySorUQr"
      },
      "execution_count": null,
      "outputs": []
    },
    {
      "cell_type": "code",
      "source": [
        "class Tree:\n",
        "  def __init__(self):\n",
        "    self.head=None\n",
        "  def preorder(self,node):\n",
        "    if node!=None:\n",
        "      print(node.val,end=\" \")\n",
        "      self.preorder(node.left)\n",
        "      self.preorder(node.right)\n",
        "  def inorder(self,node):\n",
        "    if node!=None:\n",
        "      self.inorder(node.left)\n",
        "      print(node.val,end=\" \")\n",
        "      self.inorder(node.right)\n",
        "  def postorder(self,node):\n",
        "    if node!=None:\n",
        "      self.postorder(node.left)\n",
        "      self.postorder(node.right)\n",
        "      print(node.val,end=\" \")\n"
      ],
      "metadata": {
        "id": "FQOIlrlZ37VI"
      },
      "execution_count": null,
      "outputs": []
    },
    {
      "cell_type": "code",
      "source": [
        "root=Tree()\n",
        "n1=Node(10)\n",
        "n2=Node(20)\n",
        "n3=Node(30)\n",
        "n4=Node(40)\n",
        "n5=Node(50)\n",
        "n6=Node(60)\n",
        "n7=Node(70)"
      ],
      "metadata": {
        "id": "lwFyNZft4_Ky"
      },
      "execution_count": null,
      "outputs": []
    },
    {
      "cell_type": "code",
      "source": [
        "root.head=n1\n",
        "n1.left=n2\n",
        "n1.right=n3\n",
        "n2.left=n4\n",
        "n2.right=n5\n",
        "n3.left=n6\n",
        "n3.right=n7"
      ],
      "metadata": {
        "id": "CQXHhD_L5bU4"
      },
      "execution_count": null,
      "outputs": []
    },
    {
      "cell_type": "code",
      "source": [
        "print(\"preorder\")\n",
        "root.preorder(n1)\n",
        "print()\n",
        "print(\"inorder\")\n",
        "root.inorder(n1)\n",
        "print()\n",
        "print(\"postorder\")\n",
        "root.postorder(n1)"
      ],
      "metadata": {
        "colab": {
          "base_uri": "https://localhost:8080/"
        },
        "id": "cNY7FNpg5hkG",
        "outputId": "0b40f0e4-ed6b-42d6-ead2-3004ee19737e"
      },
      "execution_count": null,
      "outputs": [
        {
          "output_type": "stream",
          "name": "stdout",
          "text": [
            "preorder\n",
            "10 20 40 50 30 60 70 \n",
            "inorder\n",
            "40 20 50 10 60 30 70 \n",
            "postorder\n",
            "40 50 20 60 70 30 10 "
          ]
        }
      ]
    },
    {
      "cell_type": "markdown",
      "source": [
        "#binary search tree\n"
      ],
      "metadata": {
        "id": "yLAQ3v9rYm48"
      }
    },
    {
      "cell_type": "code",
      "source": [
        "class Node:\n",
        "  def __init__(self,data):\n",
        "    self.val=data\n",
        "    self.left=None\n",
        "    self.right=None"
      ],
      "metadata": {
        "id": "dGLeuSRP5lb2"
      },
      "execution_count": null,
      "outputs": []
    },
    {
      "cell_type": "code",
      "source": [
        "class Tree:\n",
        "  def __init__(self):\n",
        "    self.head=None\n",
        "  def inorder(self,node):\n",
        "    if node!=None:\n",
        "      self.inorder(node.left)\n",
        "      print(node.val,end=\" \")\n",
        "      self.inorder(node.right)\n",
        "  def search(self,node,key):\n",
        "    if node== None:\n",
        "      return None\n",
        "    else:\n",
        "      if node.val==key:\n",
        "        print(\"element is found\")\n",
        "        return node.val\n",
        "      elif key>node.val:\n",
        "        return self.search(node.right,key)\n",
        "      elif key<node.val:\n",
        "        return self.search(node.left,key)\n",
        "      else:\n",
        "        print(\"element is not found\")\n",
        "  def insert(self,root,key):\n",
        "    if root is None:\n",
        "        return Node(key)\n",
        "    else:\n",
        "        if root.val == key:\n",
        "            return root\n",
        "        elif root.val < key:\n",
        "            root.right = self.insert(root.right, key)\n",
        "        else:\n",
        "            root.left = self.insert(root.left, key)\n",
        "    return root\n",
        "\n"
      ],
      "metadata": {
        "id": "WZeqMIb3Y2cJ"
      },
      "execution_count": null,
      "outputs": []
    },
    {
      "cell_type": "code",
      "source": [
        "root=Tree()"
      ],
      "metadata": {
        "id": "wMBwBJFFZOwv"
      },
      "execution_count": null,
      "outputs": []
    },
    {
      "cell_type": "code",
      "source": [
        "n1=Node(10)\n",
        "n2=Node(20)\n",
        "n3=Node(30)\n",
        "n4=Node(40)\n",
        "n5=Node(50)\n",
        "n6=Node(60)\n",
        "n7=Node(70)"
      ],
      "metadata": {
        "id": "RHLKSdY-ZVoA"
      },
      "execution_count": null,
      "outputs": []
    },
    {
      "cell_type": "code",
      "source": [
        "n4.left=n2\n",
        "n2.left=n1\n",
        "n2.right=n3\n",
        "n4.right=n6\n",
        "n6.left=n5\n",
        "n6.right=n7"
      ],
      "metadata": {
        "id": "hbZoUGo9aKur"
      },
      "execution_count": null,
      "outputs": []
    },
    {
      "cell_type": "code",
      "source": [
        "root.inorder(n4)\n"
      ],
      "metadata": {
        "colab": {
          "base_uri": "https://localhost:8080/"
        },
        "id": "_K1urbWIb8Q5",
        "outputId": "704c405a-6aa9-43e6-f1d9-dfeeb4f4ab0d"
      },
      "execution_count": null,
      "outputs": [
        {
          "output_type": "stream",
          "name": "stdout",
          "text": [
            "10 20 30 33 40 50 60 70 80 "
          ]
        }
      ]
    },
    {
      "cell_type": "code",
      "source": [
        "print(root.search(n4,70))"
      ],
      "metadata": {
        "colab": {
          "base_uri": "https://localhost:8080/"
        },
        "id": "-jAnmsZDcBgX",
        "outputId": "00e7e438-dc48-4f03-f333-c383b6ba7b16"
      },
      "execution_count": null,
      "outputs": [
        {
          "output_type": "stream",
          "name": "stdout",
          "text": [
            "element is found\n",
            "70\n"
          ]
        }
      ]
    },
    {
      "cell_type": "code",
      "source": [
        "root.insert(n4,80)"
      ],
      "metadata": {
        "colab": {
          "base_uri": "https://localhost:8080/"
        },
        "id": "XwxBiaBYdj53",
        "outputId": "6d4588d3-f7a1-4626-a94e-df839c6510ce"
      },
      "execution_count": null,
      "outputs": [
        {
          "output_type": "execute_result",
          "data": {
            "text/plain": [
              "<__main__.Node at 0x7f557f445dd0>"
            ]
          },
          "metadata": {},
          "execution_count": 71
        }
      ]
    },
    {
      "cell_type": "code",
      "source": [
        "root.insert(n4,33)"
      ],
      "metadata": {
        "colab": {
          "base_uri": "https://localhost:8080/"
        },
        "id": "i0qbZkaAgEld",
        "outputId": "a255cdec-c798-4f04-bc49-09690d27b55e"
      },
      "execution_count": null,
      "outputs": [
        {
          "output_type": "execute_result",
          "data": {
            "text/plain": [
              "<__main__.Node at 0x7f557f445dd0>"
            ]
          },
          "metadata": {},
          "execution_count": 73
        }
      ]
    },
    {
      "cell_type": "markdown",
      "source": [
        "#graph "
      ],
      "metadata": {
        "id": "h2zc9c5ANUEL"
      }
    },
    {
      "cell_type": "code",
      "source": [
        "print(\"hello\")"
      ],
      "metadata": {
        "colab": {
          "base_uri": "https://localhost:8080/",
          "height": 287
        },
        "id": "AxNY9dwGTviN",
        "outputId": "d2f6e883-c5c4-41fe-85d7-8b806ab63584"
      },
      "execution_count": null,
      "outputs": [
        {
          "output_type": "error",
          "ename": "AttributeError",
          "evalue": "ignored",
          "traceback": [
            "\u001b[0;31m---------------------------------------------------------------------------\u001b[0m",
            "\u001b[0;31mAttributeError\u001b[0m                            Traceback (most recent call last)",
            "\u001b[0;32m<ipython-input-24-43d0290e3b7d>\u001b[0m in \u001b[0;36m<module>\u001b[0;34m()\u001b[0m\n\u001b[0;32m----> 1\u001b[0;31m \u001b[0mprint\u001b[0m\u001b[0;34m(\u001b[0m\u001b[0;34m\"hello\"\u001b[0m\u001b[0;34m)\u001b[0m\u001b[0;34m\u001b[0m\u001b[0;34m\u001b[0m\u001b[0m\n\u001b[0m",
            "\u001b[0;32m<ipython-input-2-15f927f85836>\u001b[0m in \u001b[0;36mprint\u001b[0;34m(graph)\u001b[0m\n\u001b[1;32m      5\u001b[0m       \u001b[0mself\u001b[0m\u001b[0;34m.\u001b[0m\u001b[0madjList\u001b[0m\u001b[0;34m[\u001b[0m\u001b[0msrc\u001b[0m\u001b[0;34m]\u001b[0m\u001b[0;34m.\u001b[0m\u001b[0mappend\u001b[0m\u001b[0;34m(\u001b[0m\u001b[0mdest\u001b[0m\u001b[0;34m)\u001b[0m\u001b[0;34m\u001b[0m\u001b[0;34m\u001b[0m\u001b[0m\n\u001b[1;32m      6\u001b[0m \u001b[0;32mdef\u001b[0m \u001b[0mprint\u001b[0m\u001b[0;34m(\u001b[0m\u001b[0mgraph\u001b[0m\u001b[0;34m)\u001b[0m\u001b[0;34m:\u001b[0m\u001b[0;34m\u001b[0m\u001b[0;34m\u001b[0m\u001b[0m\n\u001b[0;32m----> 7\u001b[0;31m   \u001b[0;32mfor\u001b[0m \u001b[0msrc\u001b[0m \u001b[0;32min\u001b[0m \u001b[0mrange\u001b[0m\u001b[0;34m(\u001b[0m\u001b[0mlen\u001b[0m\u001b[0;34m(\u001b[0m\u001b[0mgraph\u001b[0m\u001b[0;34m.\u001b[0m\u001b[0madjList\u001b[0m\u001b[0;34m)\u001b[0m\u001b[0;34m)\u001b[0m\u001b[0;34m:\u001b[0m\u001b[0;34m\u001b[0m\u001b[0;34m\u001b[0m\u001b[0m\n\u001b[0m\u001b[1;32m      8\u001b[0m     \u001b[0;32mfor\u001b[0m \u001b[0mdest\u001b[0m \u001b[0;32min\u001b[0m \u001b[0mgraph\u001b[0m\u001b[0;34m.\u001b[0m\u001b[0madjList\u001b[0m\u001b[0;34m[\u001b[0m\u001b[0msrc\u001b[0m\u001b[0;34m]\u001b[0m\u001b[0;34m:\u001b[0m\u001b[0;34m\u001b[0m\u001b[0;34m\u001b[0m\u001b[0m\n\u001b[1;32m      9\u001b[0m       \u001b[0mprint\u001b[0m\u001b[0;34m(\u001b[0m\u001b[0;34mf'({src}->{dest})'\u001b[0m\u001b[0;34m,\u001b[0m\u001b[0mend\u001b[0m\u001b[0;34m=\u001b[0m\u001b[0;34m\" \"\u001b[0m\u001b[0;34m)\u001b[0m\u001b[0;34m\u001b[0m\u001b[0;34m\u001b[0m\u001b[0m\n",
            "\u001b[0;31mAttributeError\u001b[0m: 'str' object has no attribute 'adjList'"
          ]
        }
      ]
    },
    {
      "cell_type": "code",
      "source": [
        "class Graph:\n",
        "  def __init__(self,edges,n):\n",
        "    self.adjList=[[]for _ in range(n)]\n",
        "    for(src,dest) in edges:\n",
        "      self.adjList[src].append(dest)\n",
        "def printgrapg(graph):\n",
        "  for src in range(len(graph.adjList)):\n",
        "    for dest in graph.adjList[src]:\n",
        "      print(f'({src}->{dest})',end='')\n",
        "      print()\n",
        "if __name__ =='__main__':\n",
        "  print(\"hii\")\n",
        "  edges=[(0,1),(0,2),(1,3),(1,4),(2,5),(2,6),(3,7)]\n",
        "  n=6\n",
        "  graph=Graph(edges,n)\n",
        "  print(\"hello\")\n",
        "  printgrapg(graph)\n",
        "\n"
      ],
      "metadata": {
        "id": "AkXzPicjiqAD",
        "colab": {
          "base_uri": "https://localhost:8080/"
        },
        "outputId": "e7a6d36c-365b-455f-bcdd-f11716baa92e"
      },
      "execution_count": null,
      "outputs": [
        {
          "output_type": "stream",
          "name": "stdout",
          "text": [
            "hii\n",
            "hello\n",
            "(0->1)\n",
            "(0->2)\n",
            "(1->3)\n",
            "(1->4)\n",
            "(2->5)\n",
            "(2->6)\n",
            "(3->7)\n"
          ]
        }
      ]
    },
    {
      "cell_type": "code",
      "source": [
        "edges=[(0,1),(0,2),(1,3),(1,4),(2,5),(2,6),(3,7)]\n",
        "n=6\n",
        "graph=Graph(edges,n)\n",
        "print(\"hello\")\n",
        "printgrapg(graph)"
      ],
      "metadata": {
        "colab": {
          "base_uri": "https://localhost:8080/"
        },
        "id": "0AivIbqeOCUh",
        "outputId": "f49e0aca-7364-4d20-c17b-72669d2bace7"
      },
      "execution_count": null,
      "outputs": [
        {
          "output_type": "stream",
          "name": "stdout",
          "text": [
            "hello\n",
            "(0->1)\n",
            "(0->2)\n",
            "(1->3)\n",
            "(1->4)\n",
            "(2->5)\n",
            "(2->6)\n",
            "(3->7)\n"
          ]
        }
      ]
    },
    {
      "cell_type": "markdown",
      "source": [
        "#BFS"
      ],
      "metadata": {
        "id": "koqCftsQQIwm"
      }
    },
    {
      "cell_type": "code",
      "source": [
        "import collections "
      ],
      "metadata": {
        "id": "TCMeFKCkPrjj"
      },
      "execution_count": null,
      "outputs": []
    },
    {
      "cell_type": "code",
      "source": [
        "def bfs(graph,root):\n",
        "  visited,queue=set(),collections.deque([root])\n",
        "  visited.add(root)\n",
        "  while queue:\n",
        "    vertex=queue.popleft()\n",
        "    print(str(vertex)+ \" \" )\n",
        "    for nei in graph[vertex]:\n",
        "      if nei not in visited:\n",
        "        visited.add(nei)\n",
        "        queue.append(nei)"
      ],
      "metadata": {
        "id": "8pB5SdknQOgv"
      },
      "execution_count": null,
      "outputs": []
    },
    {
      "cell_type": "code",
      "source": [
        "g={0:[1,2],1:[1,2,3],3:[1,2,3,4,4]}\n",
        "bfs(g,0)"
      ],
      "metadata": {
        "colab": {
          "base_uri": "https://localhost:8080/",
          "height": 356
        },
        "id": "O0fWPhVkRbmj",
        "outputId": "6f62883c-2507-424d-ea87-0660838a692f"
      },
      "execution_count": null,
      "outputs": [
        {
          "output_type": "stream",
          "name": "stdout",
          "text": [
            "0 \n",
            "1 \n",
            "2 \n"
          ]
        },
        {
          "output_type": "error",
          "ename": "KeyError",
          "evalue": "ignored",
          "traceback": [
            "\u001b[0;31m---------------------------------------------------------------------------\u001b[0m",
            "\u001b[0;31mKeyError\u001b[0m                                  Traceback (most recent call last)",
            "\u001b[0;32m<ipython-input-10-0d5b49272856>\u001b[0m in \u001b[0;36m<module>\u001b[0;34m()\u001b[0m\n\u001b[1;32m      1\u001b[0m \u001b[0mg\u001b[0m\u001b[0;34m=\u001b[0m\u001b[0;34m{\u001b[0m\u001b[0;36m0\u001b[0m\u001b[0;34m:\u001b[0m\u001b[0;34m[\u001b[0m\u001b[0;36m1\u001b[0m\u001b[0;34m,\u001b[0m\u001b[0;36m2\u001b[0m\u001b[0;34m]\u001b[0m\u001b[0;34m,\u001b[0m\u001b[0;36m1\u001b[0m\u001b[0;34m:\u001b[0m\u001b[0;34m[\u001b[0m\u001b[0;36m1\u001b[0m\u001b[0;34m,\u001b[0m\u001b[0;36m2\u001b[0m\u001b[0;34m,\u001b[0m\u001b[0;36m3\u001b[0m\u001b[0;34m]\u001b[0m\u001b[0;34m,\u001b[0m\u001b[0;36m3\u001b[0m\u001b[0;34m:\u001b[0m\u001b[0;34m[\u001b[0m\u001b[0;36m1\u001b[0m\u001b[0;34m,\u001b[0m\u001b[0;36m2\u001b[0m\u001b[0;34m,\u001b[0m\u001b[0;36m3\u001b[0m\u001b[0;34m,\u001b[0m\u001b[0;36m4\u001b[0m\u001b[0;34m,\u001b[0m\u001b[0;36m4\u001b[0m\u001b[0;34m]\u001b[0m\u001b[0;34m}\u001b[0m\u001b[0;34m\u001b[0m\u001b[0;34m\u001b[0m\u001b[0m\n\u001b[0;32m----> 2\u001b[0;31m \u001b[0mbfs\u001b[0m\u001b[0;34m(\u001b[0m\u001b[0mg\u001b[0m\u001b[0;34m,\u001b[0m\u001b[0;36m0\u001b[0m\u001b[0;34m)\u001b[0m\u001b[0;34m\u001b[0m\u001b[0;34m\u001b[0m\u001b[0m\n\u001b[0m",
            "\u001b[0;32m<ipython-input-9-4ec6d9015391>\u001b[0m in \u001b[0;36mbfs\u001b[0;34m(graph, root)\u001b[0m\n\u001b[1;32m      5\u001b[0m     \u001b[0mvertex\u001b[0m\u001b[0;34m=\u001b[0m\u001b[0mqueue\u001b[0m\u001b[0;34m.\u001b[0m\u001b[0mpopleft\u001b[0m\u001b[0;34m(\u001b[0m\u001b[0;34m)\u001b[0m\u001b[0;34m\u001b[0m\u001b[0;34m\u001b[0m\u001b[0m\n\u001b[1;32m      6\u001b[0m     \u001b[0mprint\u001b[0m\u001b[0;34m(\u001b[0m\u001b[0mstr\u001b[0m\u001b[0;34m(\u001b[0m\u001b[0mvertex\u001b[0m\u001b[0;34m)\u001b[0m\u001b[0;34m+\u001b[0m \u001b[0;34m\" \"\u001b[0m \u001b[0;34m)\u001b[0m\u001b[0;34m\u001b[0m\u001b[0;34m\u001b[0m\u001b[0m\n\u001b[0;32m----> 7\u001b[0;31m     \u001b[0;32mfor\u001b[0m \u001b[0mnei\u001b[0m \u001b[0;32min\u001b[0m \u001b[0mgraph\u001b[0m\u001b[0;34m[\u001b[0m\u001b[0mvertex\u001b[0m\u001b[0;34m]\u001b[0m\u001b[0;34m:\u001b[0m\u001b[0;34m\u001b[0m\u001b[0;34m\u001b[0m\u001b[0m\n\u001b[0m\u001b[1;32m      8\u001b[0m       \u001b[0;32mif\u001b[0m \u001b[0mnei\u001b[0m \u001b[0;32mnot\u001b[0m \u001b[0;32min\u001b[0m \u001b[0mvisited\u001b[0m\u001b[0;34m:\u001b[0m\u001b[0;34m\u001b[0m\u001b[0;34m\u001b[0m\u001b[0m\n\u001b[1;32m      9\u001b[0m         \u001b[0mvisited\u001b[0m\u001b[0;34m.\u001b[0m\u001b[0madd\u001b[0m\u001b[0;34m(\u001b[0m\u001b[0mnei\u001b[0m\u001b[0;34m)\u001b[0m\u001b[0;34m\u001b[0m\u001b[0;34m\u001b[0m\u001b[0m\n",
            "\u001b[0;31mKeyError\u001b[0m: 2"
          ]
        }
      ]
    },
    {
      "cell_type": "code",
      "source": [
        "print(\"hello\")"
      ],
      "metadata": {
        "colab": {
          "base_uri": "https://localhost:8080/"
        },
        "id": "F0JNUz2tRuif",
        "outputId": "0c56cd33-c5f4-41c1-b730-ff5fcc8a1eb9"
      },
      "execution_count": null,
      "outputs": [
        {
          "output_type": "stream",
          "name": "stdout",
          "text": [
            "hello\n"
          ]
        }
      ]
    },
    {
      "cell_type": "markdown",
      "source": [
        "#dfs"
      ],
      "metadata": {
        "id": "cggcWlSUEYGU"
      }
    },
    {
      "cell_type": "code",
      "source": [
        "def dfs(graph,start,visited=None):\n",
        "  if visited is None:\n",
        "    visited=set()\n",
        "  visited.add(start)\n",
        "  print(start)\n",
        "  for next in graph[start]-visited:\n",
        "    dfs(graph,next,visited)\n",
        "  return visited\n"
      ],
      "metadata": {
        "id": "b2Yr6jO3TVYp"
      },
      "execution_count": null,
      "outputs": []
    },
    {
      "cell_type": "code",
      "source": [
        "graph={'0':set(['1','2','3']),'1':set(['0','3','4']),'2':set(['0']),'3':set(['2','3'])}\n",
        "dfs(graph,0)"
      ],
      "metadata": {
        "colab": {
          "base_uri": "https://localhost:8080/",
          "height": 321
        },
        "id": "aKA8d9NmFQDB",
        "outputId": "17e0d120-e32a-4653-bcf9-ed1b6bdf58d7"
      },
      "execution_count": null,
      "outputs": [
        {
          "output_type": "stream",
          "name": "stdout",
          "text": [
            "0\n"
          ]
        },
        {
          "output_type": "error",
          "ename": "KeyError",
          "evalue": "ignored",
          "traceback": [
            "\u001b[0;31m---------------------------------------------------------------------------\u001b[0m",
            "\u001b[0;31mKeyError\u001b[0m                                  Traceback (most recent call last)",
            "\u001b[0;32m<ipython-input-12-d1dd845b3846>\u001b[0m in \u001b[0;36m<module>\u001b[0;34m()\u001b[0m\n\u001b[1;32m      1\u001b[0m \u001b[0mgraph\u001b[0m\u001b[0;34m=\u001b[0m\u001b[0;34m{\u001b[0m\u001b[0;34m'0'\u001b[0m\u001b[0;34m:\u001b[0m\u001b[0mset\u001b[0m\u001b[0;34m(\u001b[0m\u001b[0;34m[\u001b[0m\u001b[0;34m'1'\u001b[0m\u001b[0;34m,\u001b[0m\u001b[0;34m'2'\u001b[0m\u001b[0;34m,\u001b[0m\u001b[0;34m'3'\u001b[0m\u001b[0;34m]\u001b[0m\u001b[0;34m)\u001b[0m\u001b[0;34m,\u001b[0m\u001b[0;34m'1'\u001b[0m\u001b[0;34m:\u001b[0m\u001b[0mset\u001b[0m\u001b[0;34m(\u001b[0m\u001b[0;34m[\u001b[0m\u001b[0;34m'0'\u001b[0m\u001b[0;34m,\u001b[0m\u001b[0;34m'3'\u001b[0m\u001b[0;34m,\u001b[0m\u001b[0;34m'4'\u001b[0m\u001b[0;34m]\u001b[0m\u001b[0;34m)\u001b[0m\u001b[0;34m,\u001b[0m\u001b[0;34m'2'\u001b[0m\u001b[0;34m:\u001b[0m\u001b[0mset\u001b[0m\u001b[0;34m(\u001b[0m\u001b[0;34m[\u001b[0m\u001b[0;34m'0'\u001b[0m\u001b[0;34m]\u001b[0m\u001b[0;34m)\u001b[0m\u001b[0;34m,\u001b[0m\u001b[0;34m'3'\u001b[0m\u001b[0;34m:\u001b[0m\u001b[0mset\u001b[0m\u001b[0;34m(\u001b[0m\u001b[0;34m[\u001b[0m\u001b[0;34m'2'\u001b[0m\u001b[0;34m,\u001b[0m\u001b[0;34m'3'\u001b[0m\u001b[0;34m]\u001b[0m\u001b[0;34m)\u001b[0m\u001b[0;34m}\u001b[0m\u001b[0;34m\u001b[0m\u001b[0;34m\u001b[0m\u001b[0m\n\u001b[0;32m----> 2\u001b[0;31m \u001b[0mdfs\u001b[0m\u001b[0;34m(\u001b[0m\u001b[0mgraph\u001b[0m\u001b[0;34m,\u001b[0m\u001b[0;36m0\u001b[0m\u001b[0;34m)\u001b[0m\u001b[0;34m\u001b[0m\u001b[0;34m\u001b[0m\u001b[0m\n\u001b[0m",
            "\u001b[0;32m<ipython-input-11-ef5da38da654>\u001b[0m in \u001b[0;36mdfs\u001b[0;34m(graph, start, visited)\u001b[0m\n\u001b[1;32m      4\u001b[0m   \u001b[0mvisited\u001b[0m\u001b[0;34m.\u001b[0m\u001b[0madd\u001b[0m\u001b[0;34m(\u001b[0m\u001b[0mstart\u001b[0m\u001b[0;34m)\u001b[0m\u001b[0;34m\u001b[0m\u001b[0;34m\u001b[0m\u001b[0m\n\u001b[1;32m      5\u001b[0m   \u001b[0mprint\u001b[0m\u001b[0;34m(\u001b[0m\u001b[0mstart\u001b[0m\u001b[0;34m)\u001b[0m\u001b[0;34m\u001b[0m\u001b[0;34m\u001b[0m\u001b[0m\n\u001b[0;32m----> 6\u001b[0;31m   \u001b[0;32mfor\u001b[0m \u001b[0mnext\u001b[0m \u001b[0;32min\u001b[0m \u001b[0mgraph\u001b[0m\u001b[0;34m[\u001b[0m\u001b[0mstart\u001b[0m\u001b[0;34m]\u001b[0m\u001b[0;34m-\u001b[0m\u001b[0mvisited\u001b[0m\u001b[0;34m:\u001b[0m\u001b[0;34m\u001b[0m\u001b[0;34m\u001b[0m\u001b[0m\n\u001b[0m\u001b[1;32m      7\u001b[0m     \u001b[0mdfs\u001b[0m\u001b[0;34m(\u001b[0m\u001b[0mgraph\u001b[0m\u001b[0;34m,\u001b[0m\u001b[0mnext\u001b[0m\u001b[0;34m,\u001b[0m\u001b[0mvisited\u001b[0m\u001b[0;34m)\u001b[0m\u001b[0;34m\u001b[0m\u001b[0;34m\u001b[0m\u001b[0m\n\u001b[1;32m      8\u001b[0m   \u001b[0;32mreturn\u001b[0m \u001b[0mvisited\u001b[0m\u001b[0;34m\u001b[0m\u001b[0;34m\u001b[0m\u001b[0m\n",
            "\u001b[0;31mKeyError\u001b[0m: 0"
          ]
        }
      ]
    },
    {
      "cell_type": "code",
      "source": [
        "sneh=[]\n",
        "print(sneh.List())"
      ],
      "metadata": {
        "colab": {
          "base_uri": "https://localhost:8080/",
          "height": 183
        },
        "id": "Qk4jPA_eF0ag",
        "outputId": "124889b6-6b1b-4d47-b748-c895db39302f"
      },
      "execution_count": null,
      "outputs": [
        {
          "output_type": "error",
          "ename": "AttributeError",
          "evalue": "ignored",
          "traceback": [
            "\u001b[0;31m---------------------------------------------------------------------------\u001b[0m",
            "\u001b[0;31mAttributeError\u001b[0m                            Traceback (most recent call last)",
            "\u001b[0;32m<ipython-input-16-097dfc9bd4af>\u001b[0m in \u001b[0;36m<module>\u001b[0;34m()\u001b[0m\n\u001b[1;32m      1\u001b[0m \u001b[0msneh\u001b[0m\u001b[0;34m=\u001b[0m\u001b[0;34m[\u001b[0m\u001b[0;34m]\u001b[0m\u001b[0;34m\u001b[0m\u001b[0;34m\u001b[0m\u001b[0m\n\u001b[0;32m----> 2\u001b[0;31m \u001b[0mprint\u001b[0m\u001b[0;34m(\u001b[0m\u001b[0msneh\u001b[0m\u001b[0;34m.\u001b[0m\u001b[0mList\u001b[0m\u001b[0;34m(\u001b[0m\u001b[0;34m)\u001b[0m\u001b[0;34m)\u001b[0m\u001b[0;34m\u001b[0m\u001b[0;34m\u001b[0m\u001b[0m\n\u001b[0m",
            "\u001b[0;31mAttributeError\u001b[0m: 'list' object has no attribute 'List'"
          ]
        }
      ]
    },
    {
      "cell_type": "code",
      "source": [
        ""
      ],
      "metadata": {
        "colab": {
          "base_uri": "https://localhost:8080/",
          "height": 165
        },
        "id": "PxPxql8UGDF_",
        "outputId": "51f37337-4641-4002-d6ab-01fb9a3df9c2"
      },
      "execution_count": null,
      "outputs": [
        {
          "output_type": "error",
          "ename": "NameError",
          "evalue": "ignored",
          "traceback": [
            "\u001b[0;31m---------------------------------------------------------------------------\u001b[0m",
            "\u001b[0;31mNameError\u001b[0m                                 Traceback (most recent call last)",
            "\u001b[0;32m<ipython-input-14-2b5b31917ce9>\u001b[0m in \u001b[0;36m<module>\u001b[0;34m()\u001b[0m\n\u001b[0;32m----> 1\u001b[0;31m \u001b[0msneh\u001b[0m\u001b[0;34m.\u001b[0m\u001b[0mappend\u001b[0m\u001b[0;34m(\u001b[0m\u001b[0;34m\"sapna\"\u001b[0m\u001b[0;34m)\u001b[0m\u001b[0;34m\u001b[0m\u001b[0;34m\u001b[0m\u001b[0m\n\u001b[0m",
            "\u001b[0;31mNameError\u001b[0m: name 'sneh' is not defined"
          ]
        }
      ]
    },
    {
      "cell_type": "code",
      "source": [
        ""
      ],
      "metadata": {
        "id": "Xo98ywsRGHNd"
      },
      "execution_count": null,
      "outputs": []
    }
  ]
}